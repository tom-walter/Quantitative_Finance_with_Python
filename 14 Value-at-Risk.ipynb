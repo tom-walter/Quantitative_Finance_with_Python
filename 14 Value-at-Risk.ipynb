{
 "cells": [
  {
   "attachments": {},
   "cell_type": "markdown",
   "metadata": {},
   "source": [
    "# Value-at-Risk\n",
    "\n",
    "## Lecture 1 - Implementation with Inverse Cumulative Density Function  "
   ]
  },
  {
   "cell_type": "code",
   "execution_count": 1,
   "metadata": {},
   "outputs": [],
   "source": [
    "import numpy as np\n",
    "import yfinance as yf\n",
    "from scipy.stats import norm\n",
    "import pandas as pd\n",
    "from datetime import datetime"
   ]
  },
  {
   "cell_type": "code",
   "execution_count": 2,
   "metadata": {},
   "outputs": [],
   "source": [
    "def download_data(stock: str, start_date: datetime, end_date: datetime) -> pd.DataFrame:\n",
    "    data = {}\n",
    "    ticker = yf.download(stock, start_date, end_date)\n",
    "    data[stock] = ticker[\"Adj Close\"]\n",
    "    return pd.DataFrame(data)\n",
    "\n",
    "\n",
    "def calculate_var(position: float, mu: float, sigma: float, conf: float = 0.95) -> float:\n",
    "    # this is the value-at-risk for tomorrow \n",
    "    var = position * (mu - sigma * norm.ppf(1 - conf))\n",
    "    return var\n",
    "\n",
    "\n",
    "def calculate_var_n(position: float, mu: float, sigma: float, n_days: int, conf: float = 0.95) -> float:\n",
    "    # this is the value-at-risk for any future period\n",
    "    var = position * (mu*n_days - sigma*np.sqrt(n_days) * norm.ppf(1 - conf))\n",
    "    return var"
   ]
  },
  {
   "cell_type": "code",
   "execution_count": 3,
   "metadata": {},
   "outputs": [
    {
     "name": "stdout",
     "output_type": "stream",
     "text": [
      "[*********************100%***********************]  1 of 1 completed\n"
     ]
    },
    {
     "data": {
      "text/html": [
       "<div>\n",
       "<style scoped>\n",
       "    .dataframe tbody tr th:only-of-type {\n",
       "        vertical-align: middle;\n",
       "    }\n",
       "\n",
       "    .dataframe tbody tr th {\n",
       "        vertical-align: top;\n",
       "    }\n",
       "\n",
       "    .dataframe thead th {\n",
       "        text-align: right;\n",
       "    }\n",
       "</style>\n",
       "<table border=\"1\" class=\"dataframe\">\n",
       "  <thead>\n",
       "    <tr style=\"text-align: right;\">\n",
       "      <th></th>\n",
       "      <th>C</th>\n",
       "      <th>returns</th>\n",
       "    </tr>\n",
       "    <tr>\n",
       "      <th>Date</th>\n",
       "      <th></th>\n",
       "      <th></th>\n",
       "    </tr>\n",
       "  </thead>\n",
       "  <tbody>\n",
       "    <tr>\n",
       "      <th>2014-01-03</th>\n",
       "      <td>43.411251</td>\n",
       "      <td>0.021388</td>\n",
       "    </tr>\n",
       "    <tr>\n",
       "      <th>2014-01-06</th>\n",
       "      <td>43.744579</td>\n",
       "      <td>0.007649</td>\n",
       "    </tr>\n",
       "    <tr>\n",
       "      <th>2014-01-07</th>\n",
       "      <td>44.045357</td>\n",
       "      <td>0.006852</td>\n",
       "    </tr>\n",
       "    <tr>\n",
       "      <th>2014-01-08</th>\n",
       "      <td>44.557507</td>\n",
       "      <td>0.011561</td>\n",
       "    </tr>\n",
       "    <tr>\n",
       "      <th>2014-01-09</th>\n",
       "      <td>44.874561</td>\n",
       "      <td>0.007090</td>\n",
       "    </tr>\n",
       "    <tr>\n",
       "      <th>...</th>\n",
       "      <td>...</td>\n",
       "      <td>...</td>\n",
       "    </tr>\n",
       "    <tr>\n",
       "      <th>2017-12-22</th>\n",
       "      <td>63.072449</td>\n",
       "      <td>-0.004362</td>\n",
       "    </tr>\n",
       "    <tr>\n",
       "      <th>2017-12-26</th>\n",
       "      <td>62.479244</td>\n",
       "      <td>-0.009450</td>\n",
       "    </tr>\n",
       "    <tr>\n",
       "      <th>2017-12-27</th>\n",
       "      <td>62.571140</td>\n",
       "      <td>0.001470</td>\n",
       "    </tr>\n",
       "    <tr>\n",
       "      <th>2017-12-28</th>\n",
       "      <td>62.729897</td>\n",
       "      <td>0.002534</td>\n",
       "    </tr>\n",
       "    <tr>\n",
       "      <th>2017-12-29</th>\n",
       "      <td>62.170105</td>\n",
       "      <td>-0.008964</td>\n",
       "    </tr>\n",
       "  </tbody>\n",
       "</table>\n",
       "<p>1006 rows × 2 columns</p>\n",
       "</div>"
      ],
      "text/plain": [
       "                    C   returns\n",
       "Date                           \n",
       "2014-01-03  43.411251  0.021388\n",
       "2014-01-06  43.744579  0.007649\n",
       "2014-01-07  44.045357  0.006852\n",
       "2014-01-08  44.557507  0.011561\n",
       "2014-01-09  44.874561  0.007090\n",
       "...               ...       ...\n",
       "2017-12-22  63.072449 -0.004362\n",
       "2017-12-26  62.479244 -0.009450\n",
       "2017-12-27  62.571140  0.001470\n",
       "2017-12-28  62.729897  0.002534\n",
       "2017-12-29  62.170105 -0.008964\n",
       "\n",
       "[1006 rows x 2 columns]"
      ]
     },
     "execution_count": 3,
     "metadata": {},
     "output_type": "execute_result"
    }
   ],
   "source": [
    "# Citigroup Inc. Stock\n",
    "stock = \"C\"\n",
    "start_date = datetime(2014, 1, 1)\n",
    "end_date = datetime(2018, 1, 1)\n",
    "\n",
    "# download data\n",
    "data = download_data(stock, start_date, end_date)\n",
    "\n",
    "# compute log daily returns  \n",
    "data[\"returns\"] = np.log(data[\"C\"] / data[\"C\"].shift(1))\n",
    "data = data[1:]\n",
    "data"
   ]
  },
  {
   "cell_type": "code",
   "execution_count": 4,
   "metadata": {},
   "outputs": [
    {
     "name": "stdout",
     "output_type": "stream",
     "text": [
      "For an Investment of $1,000,000.0 in CityGroup, tomorrow's VaR = $25,396.73\n"
     ]
    }
   ],
   "source": [
    "# log returns parameter\n",
    "mu = np.mean(data[\"returns\"])\n",
    "sigma = np.std(data[\"returns\"])\n",
    "\n",
    "# investment position $1Mio\n",
    "S = 1e6\n",
    "\n",
    "var = calculate_var(S, mu, sigma)\n",
    "print(f\"For an Investment of ${S:,} in CityGroup, tomorrow's VaR = ${var:,.2f}\")"
   ]
  },
  {
   "cell_type": "code",
   "execution_count": 5,
   "metadata": {},
   "outputs": [
    {
     "name": "stdout",
     "output_type": "stream",
     "text": [
      "For an Investment of $1,000,000.0 in CityGroup, 5 days VaR = $57,834.34\n"
     ]
    }
   ],
   "source": [
    "n_days = 5\n",
    "var = calculate_var_n(S, mu, sigma, n_days)\n",
    "print(f\"For an Investment of ${S:,} in CityGroup, {n_days} days VaR = ${var:,.2f}\")"
   ]
  },
  {
   "attachments": {},
   "cell_type": "markdown",
   "metadata": {},
   "source": [
    "## Lecture 2 - Implementation with Monte-Carlo Simulation"
   ]
  },
  {
   "cell_type": "code",
   "execution_count": 6,
   "metadata": {},
   "outputs": [],
   "source": [
    "class ValueAtRiskMC:\n",
    "    def __init__(self, P, mu, sigma, conf = 0.95, n_days = 1, iterations = 100_000) -> None:\n",
    "        self.P = P\n",
    "        self.mu = mu\n",
    "        self.sigma = sigma\n",
    "        self.conf = conf\n",
    "        self.n_days = n_days\n",
    "        self.iterations = iterations\n",
    "    \n",
    "    def simulation(self):\n",
    "        rand = np.random.normal(0, 1, [1, self.iterations])\n",
    "\n",
    "        # equation for the S(t) stock price\n",
    "        stock_price = self.P * np.exp(\n",
    "            self.n_days * (self.mu - 0.5 * self.sigma ** 2) \\\n",
    "                + self.sigma * np.sqrt(self.n_days) * rand\n",
    "                )\n",
    "\n",
    "        # we have to sort the stock prices to determine the percentile\n",
    "        stock_price = np.sort(stock_price)\n",
    "\n",
    "        # it depends on the confidence level: 95% -> 5 and 99% -> 1\n",
    "        percentile = np.percentile(stock_price, (1 - self.conf) * 100)\n",
    "\n",
    "        # VaR = S(t) - S'(t)\n",
    "        return self.P - percentile"
   ]
  },
  {
   "cell_type": "code",
   "execution_count": 7,
   "metadata": {},
   "outputs": [
    {
     "name": "stdout",
     "output_type": "stream",
     "text": [
      "For an Investment of $1,000,000.0 in CityGroup, tomorrow's VaR = $24,488.52\n"
     ]
    }
   ],
   "source": [
    "# investment position $1Mio\n",
    "P = 1e6\n",
    "\n",
    "# log returns parameter\n",
    "mu = np.mean(data[\"returns\"])\n",
    "sigma = np.std(data[\"returns\"])\n",
    "\n",
    "model = ValueAtRiskMC(P, mu, sigma, conf=0.95, n_days=1)\n",
    "var = model.simulation()\n",
    "\n",
    "print(f\"For an Investment of ${P:,} in CityGroup, tomorrow's VaR = ${var:,.2f}\")"
   ]
  }
 ],
 "metadata": {
  "kernelspec": {
   "display_name": "base",
   "language": "python",
   "name": "python3"
  },
  "language_info": {
   "codemirror_mode": {
    "name": "ipython",
    "version": 3
   },
   "file_extension": ".py",
   "mimetype": "text/x-python",
   "name": "python",
   "nbconvert_exporter": "python",
   "pygments_lexer": "ipython3",
   "version": "3.9.7"
  },
  "orig_nbformat": 4
 },
 "nbformat": 4,
 "nbformat_minor": 2
}

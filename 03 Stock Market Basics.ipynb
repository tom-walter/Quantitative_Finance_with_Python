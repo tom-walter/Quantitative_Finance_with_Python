{
 "cells": [
  {
   "attachments": {},
   "cell_type": "markdown",
   "metadata": {},
   "source": [
    "## 03 Stock Market Basics"
   ]
  },
  {
   "cell_type": "code",
   "execution_count": 6,
   "metadata": {},
   "outputs": [],
   "source": [
    "from quant_fin.PresentValue import (\n",
    "    future_discrete_value,\n",
    "    future_continuous_value,\n",
    "    present_discrete_value,\n",
    "    present_continuous_value,\n",
    ")"
   ]
  },
  {
   "cell_type": "code",
   "execution_count": 9,
   "metadata": {},
   "outputs": [],
   "source": [
    "# example\n",
    "x = 100\n",
    "r = 0.05\n",
    "n = 5"
   ]
  },
  {
   "cell_type": "code",
   "execution_count": 12,
   "metadata": {},
   "outputs": [
    {
     "name": "stdout",
     "output_type": "stream",
     "text": [
      "Future Value (discrete) = 127.63\n",
      "Future Value (continuous) = 127.63\n",
      "Present Value (discrete) = 78.35\n",
      "Present Value (continuous) = 77.88\n"
     ]
    }
   ],
   "source": [
    "print(f\"Future Value (discrete) = {future_discrete_value(x,r,n):.2f}\")\n",
    "print(f\"Future Value (continuous) = {future_discrete_value(x,r,n):.2f}\")\n",
    "\n",
    "print(f\"Present Value (discrete) = {present_discrete_value(x,r,n):.2f}\")\n",
    "print(f\"Present Value (continuous) = {present_continuous_value(x,r,n):.2f}\")"
   ]
  }
 ],
 "metadata": {
  "kernelspec": {
   "display_name": "base",
   "language": "python",
   "name": "python3"
  },
  "language_info": {
   "codemirror_mode": {
    "name": "ipython",
    "version": 3
   },
   "file_extension": ".py",
   "mimetype": "text/x-python",
   "name": "python",
   "nbconvert_exporter": "python",
   "pygments_lexer": "ipython3",
   "version": "3.9.7 (default, Sep 16 2021, 16:59:28) [MSC v.1916 64 bit (AMD64)]"
  },
  "orig_nbformat": 4,
  "vscode": {
   "interpreter": {
    "hash": "5b5204c156a7baecc948893e7867d03173c319f6606eb62b98a7113fefe1c1e0"
   }
  }
 },
 "nbformat": 4,
 "nbformat_minor": 2
}

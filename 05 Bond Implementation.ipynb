{
 "cells": [
  {
   "cell_type": "code",
   "execution_count": 1,
   "metadata": {},
   "outputs": [],
   "source": [
    "class ZeroCouponBond:\n",
    "    def __init__(\n",
    "        self, principal: float, maturity: int, interest_rate: float\n",
    "        ) -> None:\n",
    "        self.principal = principal\n",
    "        self.maturity = maturity\n",
    "        self.interest_rate = interest_rate / 100\n",
    "\n",
    "    def present_value(self, x: float, n: int) -> float:\n",
    "        return x / (1+self.interest_rate)**n\n",
    "\n",
    "    def calculate_price(self) -> float:\n",
    "        return self.present_value(self.principal, self.maturity)"
   ]
  },
  {
   "cell_type": "code",
   "execution_count": 2,
   "metadata": {},
   "outputs": [
    {
     "name": "stdout",
     "output_type": "stream",
     "text": [
      "Price of the bond in dollars: 924.56\n"
     ]
    }
   ],
   "source": [
    "principal = 1000\n",
    "maturity = 2\n",
    "interest = 4\n",
    "\n",
    "bond = ZeroCouponBond(principal, maturity, interest)\n",
    "print(f\"Price of the bond in dollars: {bond.calculate_price():.2f}\")"
   ]
  },
  {
   "cell_type": "code",
   "execution_count": 3,
   "metadata": {},
   "outputs": [],
   "source": [
    "class CouponBond:\n",
    "    def __init__(\n",
    "        self,\n",
    "        principal: int,\n",
    "        coupon_rate: int,\n",
    "        maturity: int,\n",
    "        interest_rate: int,\n",
    "        ) -> None:\n",
    "        self.principal = principal\n",
    "        self.coupon_rate = coupon_rate / 100\n",
    "        self.maturity = maturity\n",
    "        self.interest_rate = interest_rate / 100\n",
    "\n",
    "    def present_value(self, x, n) -> float:\n",
    "        return x / (1+self.interest_rate)**n\n",
    "\n",
    "    def calculate_price(self) -> float:\n",
    "        price = 0\n",
    "        # discount the coupon payments\n",
    "        coupon = self.principal * self.coupon_rate\n",
    "        for t in range(1, self.maturity+1):\n",
    "            price = price + self.present_value(coupon, t)\n",
    "        # discount principle amount\n",
    "        price = price + self.present_value(self.principal, self.maturity)\n",
    "        return price\n"
   ]
  },
  {
   "cell_type": "code",
   "execution_count": 6,
   "metadata": {},
   "outputs": [
    {
     "name": "stdout",
     "output_type": "stream",
     "text": [
      "Price of the bond in dollars: 1166.51\n"
     ]
    }
   ],
   "source": [
    "principal = 1000\n",
    "coupon_rate = 10\n",
    "maturity = 3\n",
    "interest = 4\n",
    "\n",
    "bond = CouponBond(1000, 10, 3, 4)\n",
    "print(f\"Price of the bond in dollars: {bond.calculate_price():.2f}\")"
   ]
  },
  {
   "cell_type": "code",
   "execution_count": 9,
   "metadata": {},
   "outputs": [],
   "source": [
    "from math import exp\n",
    "\n",
    "class contCouponBond(CouponBond):\n",
    "    def present_value(self, x, n) -> float:\n",
    "        return x*exp(-self.interest_rate*n)"
   ]
  },
  {
   "cell_type": "code",
   "execution_count": 10,
   "metadata": {},
   "outputs": [
    {
     "name": "stdout",
     "output_type": "stream",
     "text": [
      "Price of the bond in dollars: 1164.00\n"
     ]
    }
   ],
   "source": [
    "principal = 1000\n",
    "coupon_rate = 10\n",
    "maturity = 3\n",
    "interest = 4\n",
    "\n",
    "bond = contCouponBond(1000, 10, 3, 4)\n",
    "print(f\"Price of the bond in dollars: {bond.calculate_price():.2f}\")"
   ]
  }
 ],
 "metadata": {
  "kernelspec": {
   "display_name": "base",
   "language": "python",
   "name": "python3"
  },
  "language_info": {
   "codemirror_mode": {
    "name": "ipython",
    "version": 3
   },
   "file_extension": ".py",
   "mimetype": "text/x-python",
   "name": "python",
   "nbconvert_exporter": "python",
   "pygments_lexer": "ipython3",
   "version": "3.9.7"
  },
  "orig_nbformat": 4,
  "vscode": {
   "interpreter": {
    "hash": "5b5204c156a7baecc948893e7867d03173c319f6606eb62b98a7113fefe1c1e0"
   }
  }
 },
 "nbformat": 4,
 "nbformat_minor": 2
}
